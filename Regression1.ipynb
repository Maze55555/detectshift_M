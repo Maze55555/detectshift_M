{
  "nbformat": 4,
  "nbformat_minor": 0,
  "metadata": {
    "colab": {
      "name": "Regression1.ipynb",
      "provenance": [],
      "collapsed_sections": [],
      "authorship_tag": "ABX9TyPwmeezClbXW95Q65Jqd7XT",
      "include_colab_link": true
    },
    "kernelspec": {
      "name": "python3",
      "display_name": "Python 3"
    },
    "language_info": {
      "name": "python"
    }
  },
  "cells": [
    {
      "cell_type": "markdown",
      "metadata": {
        "id": "view-in-github",
        "colab_type": "text"
      },
      "source": [
        "<a href=\"https://colab.research.google.com/github/felipemaiapolo/detectshift/blob/main/Regression1.ipynb\" target=\"_parent\"><img src=\"https://colab.research.google.com/assets/colab-badge.svg\" alt=\"Open In Colab\"/></a>"
      ]
    },
    {
      "cell_type": "markdown",
      "source": [
        "# Dataset shift diagnostics with *DetectShift* in a regression task"
      ],
      "metadata": {
        "id": "GkgoTtJ_bqzr"
      }
    },
    {
      "cell_type": "markdown",
      "source": [
        "## Starting..."
      ],
      "metadata": {
        "id": "fnhVRHoLcBrd"
      }
    },
    {
      "cell_type": "markdown",
      "source": [
        "Installing *DetectShift*:"
      ],
      "metadata": {
        "id": "bVzaajEJfSuw"
      }
    },
    {
      "cell_type": "code",
      "execution_count": 1,
      "metadata": {
        "id": "TqN5iI_FVBQn"
      },
      "outputs": [],
      "source": [
        "from IPython.display import clear_output\n",
        "!pip install git+https://github.com/felipemaiapolo/detectshift\n",
        "clear_output()"
      ]
    },
    {
      "cell_type": "markdown",
      "source": [
        "Loading packages:"
      ],
      "metadata": {
        "id": "0p0Av44XfZKf"
      }
    },
    {
      "cell_type": "code",
      "source": [
        "import detectshift as ds\n",
        "import numpy as np\n",
        "import pandas as pd\n",
        "import matplotlib.pyplot as plt\n",
        "from tqdm import tqdm\n",
        "\n",
        "random_seed=42\n",
        "np.random.seed(random_seed)"
      ],
      "metadata": {
        "id": "d2kq7AwzVBuB"
      },
      "execution_count": 2,
      "outputs": []
    },
    {
      "cell_type": "markdown",
      "source": [
        "Defining function to generate data. This function generates data as in the second experiment of Section 3.1 of the paper [\"A unified framework for dataset shift diagnostics\"](https://arxiv.org/pdf/2205.08340.pdf) - $\\lambda$ controls covariate shift while $\\theta$ controls concept shift of type 2:"
      ],
      "metadata": {
        "id": "qumk9Eshffy9"
      }
    },
    {
      "cell_type": "code",
      "source": [
        "def GenData(theta, lamb, n = 1000):\n",
        "    Xs = np.random.normal(0,1,n)\n",
        "    ys = np.random.normal(Xs,1)\n",
        "    Xs = Xs.reshape(-1,1)\n",
        "    ys = ys.reshape(-1)\n",
        "    Xt = np.random.normal(lamb,1,n)\n",
        "    yt = np.random.normal(theta + Xt,1)\n",
        "    Xt = Xt.reshape(-1,1)\n",
        "    yt = yt.reshape(-1)\n",
        "    return Xs, ys, Xt, yt"
      ],
      "metadata": {
        "id": "yxQ7TWUbVE6K"
      },
      "execution_count": 3,
      "outputs": []
    },
    {
      "cell_type": "markdown",
      "source": [
        "## Example 1\n",
        "\n",
        "In this example, we cause covariate shift but not concept shift. \n",
        "\n",
        "We start by setting some parameters:"
      ],
      "metadata": {
        "id": "gVTR8zTni-57"
      }
    },
    {
      "cell_type": "code",
      "source": [
        "#DetectShift parameters\n",
        "task='reg'\n",
        "test=.1 #test size fraction\n",
        "B=500 #number of permutations\n",
        "\n",
        "#Shift parameters\n",
        "lamb=1\n",
        "theta=0"
      ],
      "metadata": {
        "id": "FxKU4EmoVC_Q"
      },
      "execution_count": 4,
      "outputs": []
    },
    {
      "cell_type": "markdown",
      "source": [
        "Creating data (**please use *prep_data* funtion to prepare your data**):"
      ],
      "metadata": {
        "id": "I0HgXFyujjhZ"
      }
    },
    {
      "cell_type": "code",
      "source": [
        "Xs, ys, Xt, yt = GenData(theta, lamb) #\"s\" stands for \"source\" and \"t\" stands for \"target\"\n",
        "\n",
        "Xs_train, Xs_test, ys_train, ys_test, Zs_train, Zs_test, \\\n",
        "Xt_train, Xt_test, yt_train, yt_test, Zt_train, Zt_test = ds.tools.prep_data(Xs, ys, Xt, yt, test=test, task=task, random_state=random_seed)            "
      ],
      "metadata": {
        "id": "v4eXaMHpVKvF"
      },
      "execution_count": 5,
      "outputs": []
    },
    {
      "cell_type": "markdown",
      "source": [
        "Training models (in this case, we use Catboost with early-stopping):"
      ],
      "metadata": {
        "id": "aXv1vArZj0ej"
      }
    },
    {
      "cell_type": "code",
      "source": [
        "#Training classifiers to estimate the R-N derivative\n",
        "totshift_model = ds.tools.KL(boost=True)\n",
        "totshift_model.fit(Zs_train, Zt_train)\n",
        "covshift_model = ds.tools.KL(boost=True)\n",
        "covshift_model.fit(Xs_train, Xt_train)\n",
        "labshift_model = ds.tools.KL(boost=True)\n",
        "labshift_model.fit(ys_train, yt_train)\n",
        "\n",
        "#Estimating the conditional distribution\n",
        "cd_model = ds.cdist.cde_reg(boost=True)\n",
        "cd_model.fit(pd.concat([Xs_train, Xt_train], axis=0), \n",
        "             pd.concat([ys_train, yt_train], axis=0))"
      ],
      "metadata": {
        "id": "MVlaagTZVLAQ"
      },
      "execution_count": 6,
      "outputs": []
    },
    {
      "cell_type": "markdown",
      "source": [
        "Getting test statistics and p-values using *ShiftDiagnostics* function (all at once):"
      ],
      "metadata": {
        "id": "w7iAGNG0kMxh"
      }
    },
    {
      "cell_type": "code",
      "source": [
        "out = ds.tests.ShiftDiagnostics(Xs_test, ys_test, Xt_test, yt_test,\n",
        "                                totshift_model=totshift_model, covshift_model=covshift_model, labshift_model=labshift_model,\n",
        "                                cd_model=cd_model, task=task, n_bins=10, B=B, verbose=True)"
      ],
      "metadata": {
        "colab": {
          "base_uri": "https://localhost:8080/"
        },
        "id": "F5sptzlpVM8c",
        "outputId": "fc995a8f-b91e-4bd1-c2be-410606c1caf9"
      },
      "execution_count": 7,
      "outputs": [
        {
          "output_type": "stream",
          "name": "stdout",
          "text": [
            "Calculating p-value for total shift...\n"
          ]
        },
        {
          "output_type": "stream",
          "name": "stderr",
          "text": [
            "100%|██████████| 500/500 [00:00<00:00, 7313.42it/s]\n"
          ]
        },
        {
          "output_type": "stream",
          "name": "stdout",
          "text": [
            "\n",
            "Calculating p-value for label shift...\n"
          ]
        },
        {
          "output_type": "stream",
          "name": "stderr",
          "text": [
            "100%|██████████| 500/500 [00:00<00:00, 13423.58it/s]\n"
          ]
        },
        {
          "output_type": "stream",
          "name": "stdout",
          "text": [
            "\n",
            "Calculating p-value for covariate shift...\n"
          ]
        },
        {
          "output_type": "stream",
          "name": "stderr",
          "text": [
            "100%|██████████| 500/500 [00:00<00:00, 5502.92it/s]\n"
          ]
        },
        {
          "output_type": "stream",
          "name": "stdout",
          "text": [
            "\n",
            "Calculating p-value for concept shift type 1...\n"
          ]
        },
        {
          "output_type": "stream",
          "name": "stderr",
          "text": [
            "100%|██████████| 500/500 [00:05<00:00, 88.96it/s]\n"
          ]
        },
        {
          "output_type": "stream",
          "name": "stdout",
          "text": [
            "\n",
            "Calculating p-value for concept shift type 2...\n"
          ]
        },
        {
          "output_type": "stream",
          "name": "stderr",
          "text": [
            "100%|██████████| 500/500 [00:02<00:00, 207.62it/s]\n"
          ]
        }
      ]
    },
    {
      "cell_type": "markdown",
      "source": [
        "Visualizing result:"
      ],
      "metadata": {
        "id": "fa8hJN-xkRBY"
      }
    },
    {
      "cell_type": "code",
      "source": [
        "pd.DataFrame(out).T.iloc[:,:2]"
      ],
      "metadata": {
        "colab": {
          "base_uri": "https://localhost:8080/",
          "height": 206
        },
        "id": "4dWmuzERVOvS",
        "outputId": "f8390b68-7b83-450d-933e-dcb94143d1d0"
      },
      "execution_count": 8,
      "outputs": [
        {
          "output_type": "execute_result",
          "data": {
            "text/plain": [
              "           pval        kl\n",
              "tot    0.001996  0.339829\n",
              "lab    0.001996  0.146041\n",
              "cov    0.001996  0.364368\n",
              "conc1  0.001996  0.193788\n",
              "conc2  0.520958 -0.024539"
            ],
            "text/html": [
              "\n",
              "  <div id=\"df-7a15abaa-776d-44ae-b89a-ec88f9a47472\">\n",
              "    <div class=\"colab-df-container\">\n",
              "      <div>\n",
              "<style scoped>\n",
              "    .dataframe tbody tr th:only-of-type {\n",
              "        vertical-align: middle;\n",
              "    }\n",
              "\n",
              "    .dataframe tbody tr th {\n",
              "        vertical-align: top;\n",
              "    }\n",
              "\n",
              "    .dataframe thead th {\n",
              "        text-align: right;\n",
              "    }\n",
              "</style>\n",
              "<table border=\"1\" class=\"dataframe\">\n",
              "  <thead>\n",
              "    <tr style=\"text-align: right;\">\n",
              "      <th></th>\n",
              "      <th>pval</th>\n",
              "      <th>kl</th>\n",
              "    </tr>\n",
              "  </thead>\n",
              "  <tbody>\n",
              "    <tr>\n",
              "      <th>tot</th>\n",
              "      <td>0.001996</td>\n",
              "      <td>0.339829</td>\n",
              "    </tr>\n",
              "    <tr>\n",
              "      <th>lab</th>\n",
              "      <td>0.001996</td>\n",
              "      <td>0.146041</td>\n",
              "    </tr>\n",
              "    <tr>\n",
              "      <th>cov</th>\n",
              "      <td>0.001996</td>\n",
              "      <td>0.364368</td>\n",
              "    </tr>\n",
              "    <tr>\n",
              "      <th>conc1</th>\n",
              "      <td>0.001996</td>\n",
              "      <td>0.193788</td>\n",
              "    </tr>\n",
              "    <tr>\n",
              "      <th>conc2</th>\n",
              "      <td>0.520958</td>\n",
              "      <td>-0.024539</td>\n",
              "    </tr>\n",
              "  </tbody>\n",
              "</table>\n",
              "</div>\n",
              "      <button class=\"colab-df-convert\" onclick=\"convertToInteractive('df-7a15abaa-776d-44ae-b89a-ec88f9a47472')\"\n",
              "              title=\"Convert this dataframe to an interactive table.\"\n",
              "              style=\"display:none;\">\n",
              "        \n",
              "  <svg xmlns=\"http://www.w3.org/2000/svg\" height=\"24px\"viewBox=\"0 0 24 24\"\n",
              "       width=\"24px\">\n",
              "    <path d=\"M0 0h24v24H0V0z\" fill=\"none\"/>\n",
              "    <path d=\"M18.56 5.44l.94 2.06.94-2.06 2.06-.94-2.06-.94-.94-2.06-.94 2.06-2.06.94zm-11 1L8.5 8.5l.94-2.06 2.06-.94-2.06-.94L8.5 2.5l-.94 2.06-2.06.94zm10 10l.94 2.06.94-2.06 2.06-.94-2.06-.94-.94-2.06-.94 2.06-2.06.94z\"/><path d=\"M17.41 7.96l-1.37-1.37c-.4-.4-.92-.59-1.43-.59-.52 0-1.04.2-1.43.59L10.3 9.45l-7.72 7.72c-.78.78-.78 2.05 0 2.83L4 21.41c.39.39.9.59 1.41.59.51 0 1.02-.2 1.41-.59l7.78-7.78 2.81-2.81c.8-.78.8-2.07 0-2.86zM5.41 20L4 18.59l7.72-7.72 1.47 1.35L5.41 20z\"/>\n",
              "  </svg>\n",
              "      </button>\n",
              "      \n",
              "  <style>\n",
              "    .colab-df-container {\n",
              "      display:flex;\n",
              "      flex-wrap:wrap;\n",
              "      gap: 12px;\n",
              "    }\n",
              "\n",
              "    .colab-df-convert {\n",
              "      background-color: #E8F0FE;\n",
              "      border: none;\n",
              "      border-radius: 50%;\n",
              "      cursor: pointer;\n",
              "      display: none;\n",
              "      fill: #1967D2;\n",
              "      height: 32px;\n",
              "      padding: 0 0 0 0;\n",
              "      width: 32px;\n",
              "    }\n",
              "\n",
              "    .colab-df-convert:hover {\n",
              "      background-color: #E2EBFA;\n",
              "      box-shadow: 0px 1px 2px rgba(60, 64, 67, 0.3), 0px 1px 3px 1px rgba(60, 64, 67, 0.15);\n",
              "      fill: #174EA6;\n",
              "    }\n",
              "\n",
              "    [theme=dark] .colab-df-convert {\n",
              "      background-color: #3B4455;\n",
              "      fill: #D2E3FC;\n",
              "    }\n",
              "\n",
              "    [theme=dark] .colab-df-convert:hover {\n",
              "      background-color: #434B5C;\n",
              "      box-shadow: 0px 1px 3px 1px rgba(0, 0, 0, 0.15);\n",
              "      filter: drop-shadow(0px 1px 2px rgba(0, 0, 0, 0.3));\n",
              "      fill: #FFFFFF;\n",
              "    }\n",
              "  </style>\n",
              "\n",
              "      <script>\n",
              "        const buttonEl =\n",
              "          document.querySelector('#df-7a15abaa-776d-44ae-b89a-ec88f9a47472 button.colab-df-convert');\n",
              "        buttonEl.style.display =\n",
              "          google.colab.kernel.accessAllowed ? 'block' : 'none';\n",
              "\n",
              "        async function convertToInteractive(key) {\n",
              "          const element = document.querySelector('#df-7a15abaa-776d-44ae-b89a-ec88f9a47472');\n",
              "          const dataTable =\n",
              "            await google.colab.kernel.invokeFunction('convertToInteractive',\n",
              "                                                     [key], {});\n",
              "          if (!dataTable) return;\n",
              "\n",
              "          const docLinkHtml = 'Like what you see? Visit the ' +\n",
              "            '<a target=\"_blank\" href=https://colab.research.google.com/notebooks/data_table.ipynb>data table notebook</a>'\n",
              "            + ' to learn more about interactive tables.';\n",
              "          element.innerHTML = '';\n",
              "          dataTable['output_type'] = 'display_data';\n",
              "          await google.colab.output.renderOutput(dataTable, element);\n",
              "          const docLink = document.createElement('div');\n",
              "          docLink.innerHTML = docLinkHtml;\n",
              "          element.appendChild(docLink);\n",
              "        }\n",
              "      </script>\n",
              "    </div>\n",
              "  </div>\n",
              "  "
            ]
          },
          "metadata": {},
          "execution_count": 8
        }
      ]
    },
    {
      "cell_type": "markdown",
      "source": [
        "## Example 2\n",
        "\n",
        "In this example, we cause label shift but not concept shift of type 1. \n",
        "\n",
        "We start by setting some parameters:"
      ],
      "metadata": {
        "id": "hnIqmgdmkT9p"
      }
    },
    {
      "cell_type": "code",
      "source": [
        "#DetectShift parameters\n",
        "task='reg'\n",
        "test=.1 #test size fraction\n",
        "B=500 #number of permutations\n",
        "\n",
        "#Shift parameters\n",
        "lamb=0\n",
        "theta=1"
      ],
      "metadata": {
        "id": "FBXBaURFVRX2"
      },
      "execution_count": 9,
      "outputs": []
    },
    {
      "cell_type": "markdown",
      "source": [
        "Creating data (**please use *prep_data* funtion to prepare your data**):"
      ],
      "metadata": {
        "id": "to6u3eNckpyB"
      }
    },
    {
      "cell_type": "code",
      "source": [
        "Xs, ys, Xt, yt = GenData(theta, lamb) #\"s\" stands for \"source\" and \"t\" stands for \"target\"\n",
        "\n",
        "Xs_train, Xs_test, ys_train, ys_test, Zs_train, Zs_test, \\\n",
        "Xt_train, Xt_test, yt_train, yt_test, Zt_train, Zt_test = ds.tools.prep_data(Xs, ys, Xt, yt, test=test, task=task, random_state=random_seed)            "
      ],
      "metadata": {
        "id": "dtVhDut1VS_9"
      },
      "execution_count": 10,
      "outputs": []
    },
    {
      "cell_type": "markdown",
      "source": [
        "Training models (in this case, we use $l_2$ regularized logistic regression and ridge regression + normal error for the cond. dist. model):"
      ],
      "metadata": {
        "id": "WwIOw3tnkuIp"
      }
    },
    {
      "cell_type": "code",
      "source": [
        "#Training classifiers to estimate the R-N derivative\n",
        "totshift_model = ds.tools.KL(boost=False, cv=5)\n",
        "totshift_model.fit(Zs_train, Zt_train)\n",
        "covshift_model = ds.tools.KL(boost=False, cv=5)\n",
        "covshift_model.fit(Xs_train, Xt_train)\n",
        "labshift_model = ds.tools.KL(boost=False, cv=5)\n",
        "labshift_model.fit(ys_train, yt_train)\n",
        "\n",
        "#Estimating the conditional distribution\n",
        "cd_model = ds.cdist.cde_reg(boost=False, cv=5)\n",
        "cd_model.fit(pd.concat([Xs_train, Xt_train], axis=0), \n",
        "             pd.concat([ys_train, yt_train], axis=0))"
      ],
      "metadata": {
        "id": "9cRqvzuAVUmK"
      },
      "execution_count": 11,
      "outputs": []
    },
    {
      "cell_type": "markdown",
      "source": [
        "Getting test statistics and p-values separately:"
      ],
      "metadata": {
        "id": "xIeXJNsqk78A"
      }
    },
    {
      "cell_type": "code",
      "source": [
        "verbose = True\n",
        "\n",
        "print(\"Calculating p-value for total shift...\") \n",
        "tot = ds.tests.Permut(Zs_test, Zt_test, totshift_model, B=B, verbose = verbose)\n",
        "\n",
        "print(\"\\nCalculating p-value for label shift...\")\n",
        "lab = ds.tests.Permut(ys_test, yt_test, labshift_model, B=B, verbose = verbose)\n",
        "\n",
        "print(\"\\nCalculating p-value for covariate shift...\")\n",
        "cov = ds.tests.Permut(Xs_test, Xt_test, covshift_model, B=B, verbose = verbose)\n",
        "\n",
        "print(\"\\nCalculating p-value for concept shift type 1...\")\n",
        "conc1 = ds.tests.LocalPermut(Xs_test, ys_test, Xt_test, yt_test, \n",
        "                             totshift_model, labshift_model=labshift_model, task=task, n_bins=10, B=B, verbose = verbose)\n",
        "\n",
        "print(\"\\nCalculating p-value for concept shift type 2...\")\n",
        "conc2 = ds.tests.CondRand(Xs_test, ys_test, Xt_test, yt_test, \n",
        "                          cd_model, totshift_model, covshift_model, B=B, verbose = verbose)\n",
        "    \n",
        "out = {'tot':tot, 'lab':lab, 'cov':cov, 'conc1':conc1, 'conc2':conc2}"
      ],
      "metadata": {
        "colab": {
          "base_uri": "https://localhost:8080/"
        },
        "id": "m_fxA8cfVWC0",
        "outputId": "2ca28e41-02a6-480a-e342-7f8e5bc8b483"
      },
      "execution_count": 12,
      "outputs": [
        {
          "output_type": "stream",
          "name": "stdout",
          "text": [
            "Calculating p-value for total shift...\n"
          ]
        },
        {
          "output_type": "stream",
          "name": "stderr",
          "text": [
            "100%|██████████| 500/500 [00:00<00:00, 6581.26it/s]\n"
          ]
        },
        {
          "output_type": "stream",
          "name": "stdout",
          "text": [
            "\n",
            "Calculating p-value for label shift...\n"
          ]
        },
        {
          "output_type": "stream",
          "name": "stderr",
          "text": [
            "100%|██████████| 500/500 [00:00<00:00, 5036.46it/s]\n"
          ]
        },
        {
          "output_type": "stream",
          "name": "stdout",
          "text": [
            "\n",
            "Calculating p-value for covariate shift...\n"
          ]
        },
        {
          "output_type": "stream",
          "name": "stderr",
          "text": [
            "100%|██████████| 500/500 [00:00<00:00, 5228.72it/s]\n"
          ]
        },
        {
          "output_type": "stream",
          "name": "stdout",
          "text": [
            "\n",
            "Calculating p-value for concept shift type 1...\n"
          ]
        },
        {
          "output_type": "stream",
          "name": "stderr",
          "text": [
            "100%|██████████| 500/500 [00:08<00:00, 57.37it/s] \n"
          ]
        },
        {
          "output_type": "stream",
          "name": "stdout",
          "text": [
            "\n",
            "Calculating p-value for concept shift type 2...\n"
          ]
        },
        {
          "output_type": "stream",
          "name": "stderr",
          "text": [
            "100%|██████████| 500/500 [00:01<00:00, 296.05it/s]\n"
          ]
        }
      ]
    },
    {
      "cell_type": "markdown",
      "source": [
        "Visualizing result:"
      ],
      "metadata": {
        "id": "AwnVsdhulDis"
      }
    },
    {
      "cell_type": "code",
      "source": [
        "pd.DataFrame(out).T.iloc[:,:2]"
      ],
      "metadata": {
        "colab": {
          "base_uri": "https://localhost:8080/",
          "height": 206
        },
        "id": "un-GBsReVdt6",
        "outputId": "42068d23-5a85-4dff-8112-d449c580ac6f"
      },
      "execution_count": 13,
      "outputs": [
        {
          "output_type": "execute_result",
          "data": {
            "text/plain": [
              "           pval        kl\n",
              "tot    0.001996  0.551234\n",
              "lab    0.001996  0.297965\n",
              "cov     0.89022 -0.000007\n",
              "conc1  0.001996  0.253269\n",
              "conc2  0.001996  0.551241"
            ],
            "text/html": [
              "\n",
              "  <div id=\"df-ec7a9372-3c6a-4aca-8abb-71b34f7baa96\">\n",
              "    <div class=\"colab-df-container\">\n",
              "      <div>\n",
              "<style scoped>\n",
              "    .dataframe tbody tr th:only-of-type {\n",
              "        vertical-align: middle;\n",
              "    }\n",
              "\n",
              "    .dataframe tbody tr th {\n",
              "        vertical-align: top;\n",
              "    }\n",
              "\n",
              "    .dataframe thead th {\n",
              "        text-align: right;\n",
              "    }\n",
              "</style>\n",
              "<table border=\"1\" class=\"dataframe\">\n",
              "  <thead>\n",
              "    <tr style=\"text-align: right;\">\n",
              "      <th></th>\n",
              "      <th>pval</th>\n",
              "      <th>kl</th>\n",
              "    </tr>\n",
              "  </thead>\n",
              "  <tbody>\n",
              "    <tr>\n",
              "      <th>tot</th>\n",
              "      <td>0.001996</td>\n",
              "      <td>0.551234</td>\n",
              "    </tr>\n",
              "    <tr>\n",
              "      <th>lab</th>\n",
              "      <td>0.001996</td>\n",
              "      <td>0.297965</td>\n",
              "    </tr>\n",
              "    <tr>\n",
              "      <th>cov</th>\n",
              "      <td>0.89022</td>\n",
              "      <td>-0.000007</td>\n",
              "    </tr>\n",
              "    <tr>\n",
              "      <th>conc1</th>\n",
              "      <td>0.001996</td>\n",
              "      <td>0.253269</td>\n",
              "    </tr>\n",
              "    <tr>\n",
              "      <th>conc2</th>\n",
              "      <td>0.001996</td>\n",
              "      <td>0.551241</td>\n",
              "    </tr>\n",
              "  </tbody>\n",
              "</table>\n",
              "</div>\n",
              "      <button class=\"colab-df-convert\" onclick=\"convertToInteractive('df-ec7a9372-3c6a-4aca-8abb-71b34f7baa96')\"\n",
              "              title=\"Convert this dataframe to an interactive table.\"\n",
              "              style=\"display:none;\">\n",
              "        \n",
              "  <svg xmlns=\"http://www.w3.org/2000/svg\" height=\"24px\"viewBox=\"0 0 24 24\"\n",
              "       width=\"24px\">\n",
              "    <path d=\"M0 0h24v24H0V0z\" fill=\"none\"/>\n",
              "    <path d=\"M18.56 5.44l.94 2.06.94-2.06 2.06-.94-2.06-.94-.94-2.06-.94 2.06-2.06.94zm-11 1L8.5 8.5l.94-2.06 2.06-.94-2.06-.94L8.5 2.5l-.94 2.06-2.06.94zm10 10l.94 2.06.94-2.06 2.06-.94-2.06-.94-.94-2.06-.94 2.06-2.06.94z\"/><path d=\"M17.41 7.96l-1.37-1.37c-.4-.4-.92-.59-1.43-.59-.52 0-1.04.2-1.43.59L10.3 9.45l-7.72 7.72c-.78.78-.78 2.05 0 2.83L4 21.41c.39.39.9.59 1.41.59.51 0 1.02-.2 1.41-.59l7.78-7.78 2.81-2.81c.8-.78.8-2.07 0-2.86zM5.41 20L4 18.59l7.72-7.72 1.47 1.35L5.41 20z\"/>\n",
              "  </svg>\n",
              "      </button>\n",
              "      \n",
              "  <style>\n",
              "    .colab-df-container {\n",
              "      display:flex;\n",
              "      flex-wrap:wrap;\n",
              "      gap: 12px;\n",
              "    }\n",
              "\n",
              "    .colab-df-convert {\n",
              "      background-color: #E8F0FE;\n",
              "      border: none;\n",
              "      border-radius: 50%;\n",
              "      cursor: pointer;\n",
              "      display: none;\n",
              "      fill: #1967D2;\n",
              "      height: 32px;\n",
              "      padding: 0 0 0 0;\n",
              "      width: 32px;\n",
              "    }\n",
              "\n",
              "    .colab-df-convert:hover {\n",
              "      background-color: #E2EBFA;\n",
              "      box-shadow: 0px 1px 2px rgba(60, 64, 67, 0.3), 0px 1px 3px 1px rgba(60, 64, 67, 0.15);\n",
              "      fill: #174EA6;\n",
              "    }\n",
              "\n",
              "    [theme=dark] .colab-df-convert {\n",
              "      background-color: #3B4455;\n",
              "      fill: #D2E3FC;\n",
              "    }\n",
              "\n",
              "    [theme=dark] .colab-df-convert:hover {\n",
              "      background-color: #434B5C;\n",
              "      box-shadow: 0px 1px 3px 1px rgba(0, 0, 0, 0.15);\n",
              "      filter: drop-shadow(0px 1px 2px rgba(0, 0, 0, 0.3));\n",
              "      fill: #FFFFFF;\n",
              "    }\n",
              "  </style>\n",
              "\n",
              "      <script>\n",
              "        const buttonEl =\n",
              "          document.querySelector('#df-ec7a9372-3c6a-4aca-8abb-71b34f7baa96 button.colab-df-convert');\n",
              "        buttonEl.style.display =\n",
              "          google.colab.kernel.accessAllowed ? 'block' : 'none';\n",
              "\n",
              "        async function convertToInteractive(key) {\n",
              "          const element = document.querySelector('#df-ec7a9372-3c6a-4aca-8abb-71b34f7baa96');\n",
              "          const dataTable =\n",
              "            await google.colab.kernel.invokeFunction('convertToInteractive',\n",
              "                                                     [key], {});\n",
              "          if (!dataTable) return;\n",
              "\n",
              "          const docLinkHtml = 'Like what you see? Visit the ' +\n",
              "            '<a target=\"_blank\" href=https://colab.research.google.com/notebooks/data_table.ipynb>data table notebook</a>'\n",
              "            + ' to learn more about interactive tables.';\n",
              "          element.innerHTML = '';\n",
              "          dataTable['output_type'] = 'display_data';\n",
              "          await google.colab.output.renderOutput(dataTable, element);\n",
              "          const docLink = document.createElement('div');\n",
              "          docLink.innerHTML = docLinkHtml;\n",
              "          element.appendChild(docLink);\n",
              "        }\n",
              "      </script>\n",
              "    </div>\n",
              "  </div>\n",
              "  "
            ]
          },
          "metadata": {},
          "execution_count": 13
        }
      ]
    }
  ]
}
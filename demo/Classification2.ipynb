{
  "nbformat": 4,
  "nbformat_minor": 0,
  "metadata": {
    "colab": {
      "name": "Classification2.ipynb",
      "provenance": [],
      "collapsed_sections": [],
      "authorship_tag": "ABX9TyPTU8lanlUjsOQJNqe9jgcb",
      "include_colab_link": true
    },
    "kernelspec": {
      "name": "python3",
      "display_name": "Python 3"
    },
    "language_info": {
      "name": "python"
    }
  },
  "cells": [
    {
      "cell_type": "markdown",
      "metadata": {
        "id": "view-in-github",
        "colab_type": "text"
      },
      "source": [
        "<a href=\"https://colab.research.google.com/github/felipemaiapolo/detectshift/blob/main/demo/Classification2.ipynb\" target=\"_parent\"><img src=\"https://colab.research.google.com/assets/colab-badge.svg\" alt=\"Open In Colab\"/></a>"
      ]
    },
    {
      "cell_type": "markdown",
      "source": [
        "# Dataset shift diagnostics with *DetectShift* in a multinomial classification task"
      ],
      "metadata": {
        "id": "GkgoTtJ_bqzr"
      }
    },
    {
      "cell_type": "markdown",
      "source": [
        "## Starting..."
      ],
      "metadata": {
        "id": "fnhVRHoLcBrd"
      }
    },
    {
      "cell_type": "markdown",
      "source": [
        "Installing *DetectShift*:"
      ],
      "metadata": {
        "id": "bVzaajEJfSuw"
      }
    },
    {
      "cell_type": "code",
      "execution_count": 12,
      "metadata": {
        "id": "TqN5iI_FVBQn"
      },
      "outputs": [],
      "source": [
        "from IPython.display import clear_output\n",
        "!pip install detectshift\n",
        "!pip install wget\n",
        "clear_output()"
      ]
    },
    {
      "cell_type": "markdown",
      "source": [
        "Loading packages:"
      ],
      "metadata": {
        "id": "0p0Av44XfZKf"
      }
    },
    {
      "cell_type": "code",
      "source": [
        "import detectshift as ds\n",
        "import numpy as np\n",
        "import pandas as pd\n",
        "import matplotlib.pyplot as plt\n",
        "from tqdm import tqdm\n",
        "import wget\n",
        "\n",
        "random_seed=42\n",
        "np.random.seed(random_seed)"
      ],
      "metadata": {
        "id": "d2kq7AwzVBuB"
      },
      "execution_count": 13,
      "outputs": []
    },
    {
      "cell_type": "markdown",
      "source": [
        "Loading data used in the MNIST/USPS experiment contained in the paper [\"A unified framework for dataset shift diagnostics\"](https://arxiv.org/pdf/2205.08340.pdf). Click [here](https://github.com/felipemaiapolo/dataset_shift_diagnostics/blob/main/EXP5_digits_experiment.ipynb) and [here](https://github.com/felipemaiapolo/dataset_shift_diagnostics/tree/main/data) if you want to check how the data was generated. \n",
        "\n",
        "In this demo, we only use the pure MNIST dataset and the even split.\n",
        "\n",
        "*PS: The code used in this demo is not exactly the same used in the paper, then we expect some variation, specially in the p-values. However, we expect the results to be qualitatively very similar.*"
      ],
      "metadata": {
        "id": "qumk9Eshffy9"
      }
    },
    {
      "cell_type": "code",
      "source": [
        "url=\"https://github.com/felipemaiapolo/detectshift/raw/main/demo/data/digits_data.npy\"\n",
        "filename = wget.download(url, out=None)\n",
        "\n",
        "data=np.load(filename,allow_pickle=True).tolist()"
      ],
      "metadata": {
        "id": "wq-GnAX6gFRY"
      },
      "execution_count": 14,
      "outputs": []
    },
    {
      "cell_type": "code",
      "source": [
        "Xs, ys = data['X'][0], data['y'][0]\n",
        "Xt, yt = data['X'][-1], data['y'][-1]"
      ],
      "metadata": {
        "id": "Au5NRc8RgYhe"
      },
      "execution_count": 15,
      "outputs": []
    },
    {
      "cell_type": "markdown",
      "source": [
        "## Example \n",
        "\n",
        "In this example, we expect to detect all kinds of shift except label shift and concept shift of type 2 (just like in the paper):\n",
        "\n",
        "We start by setting some parameters:"
      ],
      "metadata": {
        "id": "gVTR8zTni-57"
      }
    },
    {
      "cell_type": "code",
      "source": [
        "#DetectShift parameters\n",
        "task='class'\n",
        "test=.1 #test size fraction\n",
        "B=500 #number of permutations"
      ],
      "metadata": {
        "id": "FxKU4EmoVC_Q"
      },
      "execution_count": 16,
      "outputs": []
    },
    {
      "cell_type": "markdown",
      "source": [
        "Creating data (**please use *prep_data* funtion to prepare your data**):"
      ],
      "metadata": {
        "id": "I0HgXFyujjhZ"
      }
    },
    {
      "cell_type": "code",
      "source": [
        "Xs_train, Xs_test, ys_train, ys_test, Zs_train, Zs_test, \\\n",
        "Xt_train, Xt_test, yt_train, yt_test, Zt_train, Zt_test = ds.tools.prep_data(Xs, ys, Xt, yt, test=test, task=task, random_state=random_seed)            "
      ],
      "metadata": {
        "id": "v4eXaMHpVKvF"
      },
      "execution_count": 17,
      "outputs": []
    },
    {
      "cell_type": "markdown",
      "source": [
        "Training models (in this case, we use Catboost classifier with early-stopping):"
      ],
      "metadata": {
        "id": "aXv1vArZj0ej"
      }
    },
    {
      "cell_type": "code",
      "source": [
        "#Training classifiers to estimate the R-N derivative\n",
        "totshift_model = ds.tools.KL(boost=True)\n",
        "totshift_model.fit(Zs_train, Zt_train)\n",
        "covshift_model = ds.tools.KL(boost=True)\n",
        "covshift_model.fit(Xs_train, Xt_train)\n",
        "\n",
        "#Estimating the conditional distribution\n",
        "cd_model = ds.cdist.cde_class(boost=True)\n",
        "cd_model.fit(pd.concat([Xs_train, Xt_train], axis=0), \n",
        "             pd.concat([ys_train, yt_train], axis=0))"
      ],
      "metadata": {
        "id": "MVlaagTZVLAQ"
      },
      "execution_count": null,
      "outputs": []
    },
    {
      "cell_type": "markdown",
      "source": [
        "Getting test statistics and p-values using *ShiftDiagnostics* function (all at once):"
      ],
      "metadata": {
        "id": "w7iAGNG0kMxh"
      }
    },
    {
      "cell_type": "code",
      "source": [
        "out = ds.tests.ShiftDiagnostics(Xs_test, ys_test, Xt_test, yt_test,\n",
        "                                totshift_model=totshift_model, covshift_model=covshift_model, labshift_model=None,\n",
        "                                cd_model=cd_model, task=task, B=B, verbose=True)"
      ],
      "metadata": {
        "id": "F5sptzlpVM8c"
      },
      "execution_count": null,
      "outputs": []
    },
    {
      "cell_type": "markdown",
      "source": [
        "Visualizing result:"
      ],
      "metadata": {
        "id": "fa8hJN-xkRBY"
      }
    },
    {
      "cell_type": "code",
      "source": [
        "pd.DataFrame(out).T.iloc[:,:2]"
      ],
      "metadata": {
        "id": "4dWmuzERVOvS"
      },
      "execution_count": null,
      "outputs": []
    },
    {
      "cell_type": "markdown",
      "source": [
        "Getting test statistics and p-values separately:"
      ],
      "metadata": {
        "id": "xIeXJNsqk78A"
      }
    },
    {
      "cell_type": "code",
      "source": [
        "verbose = True\n",
        "\n",
        "print(\"Calculating p-value for total shift...\") \n",
        "tot = ds.tests.Permut(Zs_test, Zt_test, totshift_model, B=B, verbose = verbose)\n",
        "\n",
        "print(\"\\nCalculating p-value for label shift...\")\n",
        "lab = ds.tests.PermutDiscrete(ys_test, yt_test, B=B, verbose = verbose)\n",
        "\n",
        "print(\"\\nCalculating p-value for covariate shift...\")\n",
        "cov = ds.tests.Permut(Xs_test, Xt_test, covshift_model, B=B, verbose = verbose)\n",
        "\n",
        "print(\"\\nCalculating p-value for concept shift type 1...\")\n",
        "conc1 = ds.tests.LocalPermut(Xs_test, ys_test, Xt_test, yt_test, \n",
        "                             totshift_model, labshift_model=None, task=task, B=B, verbose = verbose)\n",
        "\n",
        "print(\"\\nCalculating p-value for concept shift type 2...\")\n",
        "conc2 = ds.tests.CondRand(Xs_test, ys_test, Xt_test, yt_test, \n",
        "                          cd_model, totshift_model, covshift_model, B=B, verbose = verbose)\n",
        "    \n",
        "out = {'tot':tot, 'lab':lab, 'cov':cov, 'conc1':conc1, 'conc2':conc2}"
      ],
      "metadata": {
        "id": "m_fxA8cfVWC0"
      },
      "execution_count": null,
      "outputs": []
    },
    {
      "cell_type": "markdown",
      "source": [
        "Visualizing result:"
      ],
      "metadata": {
        "id": "AwnVsdhulDis"
      }
    },
    {
      "cell_type": "code",
      "source": [
        "pd.DataFrame(out).T.iloc[:,:2]"
      ],
      "metadata": {
        "id": "un-GBsReVdt6"
      },
      "execution_count": null,
      "outputs": []
    }
  ]
}
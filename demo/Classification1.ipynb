{
  "nbformat": 4,
  "nbformat_minor": 0,
  "metadata": {
    "colab": {
      "name": "Classification1.ipynb",
      "provenance": [],
      "collapsed_sections": [],
      "authorship_tag": "ABX9TyP6G+Nq6Vn/ul1DbhBkCblx",
      "include_colab_link": true
    },
    "kernelspec": {
      "name": "python3",
      "display_name": "Python 3"
    },
    "language_info": {
      "name": "python"
    }
  },
  "cells": [
    {
      "cell_type": "markdown",
      "metadata": {
        "id": "view-in-github",
        "colab_type": "text"
      },
      "source": [
        "<a href=\"https://colab.research.google.com/github/felipemaiapolo/detectshift/blob/main/Classification1.ipynb\" target=\"_parent\"><img src=\"https://colab.research.google.com/assets/colab-badge.svg\" alt=\"Open In Colab\"/></a>"
      ]
    },
    {
      "cell_type": "markdown",
      "source": [
        "# Dataset shift diagnostics with *DetectShift* in a binary classification task"
      ],
      "metadata": {
        "id": "GkgoTtJ_bqzr"
      }
    },
    {
      "cell_type": "markdown",
      "source": [
        "## Starting..."
      ],
      "metadata": {
        "id": "fnhVRHoLcBrd"
      }
    },
    {
      "cell_type": "markdown",
      "source": [
        "Installing *DetectShift*:"
      ],
      "metadata": {
        "id": "bVzaajEJfSuw"
      }
    },
    {
      "cell_type": "code",
      "execution_count": 1,
      "metadata": {
        "id": "TqN5iI_FVBQn"
      },
      "outputs": [],
      "source": [
        "from IPython.display import clear_output\n",
        "!pip install git+https://github.com/felipemaiapolo/detectshift\n",
        "clear_output()"
      ]
    },
    {
      "cell_type": "markdown",
      "source": [
        "Loading packages:"
      ],
      "metadata": {
        "id": "0p0Av44XfZKf"
      }
    },
    {
      "cell_type": "code",
      "source": [
        "import detectshift as ds\n",
        "import numpy as np\n",
        "import pandas as pd\n",
        "import matplotlib.pyplot as plt\n",
        "from tqdm import tqdm\n",
        "\n",
        "random_seed=42\n",
        "np.random.seed(random_seed)"
      ],
      "metadata": {
        "id": "d2kq7AwzVBuB"
      },
      "execution_count": 2,
      "outputs": []
    },
    {
      "cell_type": "markdown",
      "source": [
        "Defining function to generate data. This function generates data as in the first experiment of Section 3.1 of the paper [\"A unified framework for dataset shift diagnostics\"](https://arxiv.org/pdf/2205.08340.pdf) - $\\delta$ controls label shift while $\\gamma$ controls concept shift of type 1:"
      ],
      "metadata": {
        "id": "qumk9Eshffy9"
      }
    },
    {
      "cell_type": "code",
      "source": [
        "def GenData2(gamma, delta, n = 1000):\n",
        "    ys = np.random.binomial(1, .5, n)  \n",
        "    yt = np.random.binomial(1, .5 + delta, n)\n",
        "    Xs=[]\n",
        "    Xt=[]\n",
        "    for i in range(n):\n",
        "        Xs.append(np.random.normal(ys[i],1,3).tolist())\n",
        "        Xt.append(np.random.normal(yt[i]+gamma,1,3).tolist())  \n",
        "    Xs=np.array(Xs)\n",
        "    Xt=np.array(Xt)\n",
        "    Xs = Xs.reshape(n,-1)\n",
        "    Xt = Xt.reshape(n,-1)\n",
        "    ys = ys.reshape(-1)\n",
        "    yt = yt.reshape(-1)\n",
        "    return Xs, ys, Xt, yt"
      ],
      "metadata": {
        "id": "yxQ7TWUbVE6K"
      },
      "execution_count": 3,
      "outputs": []
    },
    {
      "cell_type": "markdown",
      "source": [
        "## Example 1\n",
        "\n",
        "In this example, we cause concept shift of type 1 but not label shift. \n",
        "\n",
        "We start by setting some parameters:"
      ],
      "metadata": {
        "id": "gVTR8zTni-57"
      }
    },
    {
      "cell_type": "code",
      "source": [
        "#DetectShift parameters\n",
        "task='class'\n",
        "test=.1 #test size fraction\n",
        "B=500 #number of permutations\n",
        "\n",
        "#Shift parameters\n",
        "gamma=1\n",
        "delta=0"
      ],
      "metadata": {
        "id": "FxKU4EmoVC_Q"
      },
      "execution_count": 4,
      "outputs": []
    },
    {
      "cell_type": "markdown",
      "source": [
        "Creating data (**please use *prep_data* funtion to prepare your data**):"
      ],
      "metadata": {
        "id": "I0HgXFyujjhZ"
      }
    },
    {
      "cell_type": "code",
      "source": [
        "Xs, ys, Xt, yt = GenData2(gamma, delta) #\"s\" stands for \"source\" and \"t\" stands for \"target\"\n",
        "\n",
        "Xs_train, Xs_test, ys_train, ys_test, Zs_train, Zs_test, \\\n",
        "Xt_train, Xt_test, yt_train, yt_test, Zt_train, Zt_test = ds.tools.prep_data(Xs, ys, Xt, yt, test=test, task=task, random_state=random_seed)            "
      ],
      "metadata": {
        "id": "v4eXaMHpVKvF"
      },
      "execution_count": 5,
      "outputs": []
    },
    {
      "cell_type": "markdown",
      "source": [
        "Training models (in this case, we use Catboost classifier with early-stopping):"
      ],
      "metadata": {
        "id": "aXv1vArZj0ej"
      }
    },
    {
      "cell_type": "code",
      "source": [
        "#Training classifiers to estimate the R-N derivative\n",
        "totshift_model = ds.tools.KL(boost=True)\n",
        "totshift_model.fit(Zs_train, Zt_train)\n",
        "covshift_model = ds.tools.KL(boost=True)\n",
        "covshift_model.fit(Xs_train, Xt_train)\n",
        "\n",
        "#Estimating the conditional distribution\n",
        "cd_model = ds.cdist.cde_class(boost=True)\n",
        "cd_model.fit(pd.concat([Xs_train, Xt_train], axis=0), \n",
        "             pd.concat([ys_train, yt_train], axis=0))"
      ],
      "metadata": {
        "id": "MVlaagTZVLAQ"
      },
      "execution_count": 6,
      "outputs": []
    },
    {
      "cell_type": "markdown",
      "source": [
        "Getting test statistics and p-values using *ShiftDiagnostics* function (all at once):"
      ],
      "metadata": {
        "id": "w7iAGNG0kMxh"
      }
    },
    {
      "cell_type": "code",
      "source": [
        "out = ds.tests.ShiftDiagnostics(Xs_test, ys_test, Xt_test, yt_test,\n",
        "                                totshift_model=totshift_model, covshift_model=covshift_model, labshift_model=None,\n",
        "                                cd_model=cd_model, task=task, B=B, verbose=True)"
      ],
      "metadata": {
        "colab": {
          "base_uri": "https://localhost:8080/"
        },
        "id": "F5sptzlpVM8c",
        "outputId": "ebc95bff-0b84-4f04-faa0-e332fd39a0e1"
      },
      "execution_count": 7,
      "outputs": [
        {
          "output_type": "stream",
          "name": "stdout",
          "text": [
            "Calculating p-value for total shift...\n"
          ]
        },
        {
          "output_type": "stream",
          "name": "stderr",
          "text": [
            "100%|██████████| 500/500 [00:00<00:00, 7111.69it/s]\n"
          ]
        },
        {
          "output_type": "stream",
          "name": "stdout",
          "text": [
            "\n",
            "Calculating p-value for label shift...\n"
          ]
        },
        {
          "output_type": "stream",
          "name": "stderr",
          "text": [
            "100%|██████████| 500/500 [00:00<00:00, 6489.21it/s]\n"
          ]
        },
        {
          "output_type": "stream",
          "name": "stdout",
          "text": [
            "\n",
            "Calculating p-value for covariate shift...\n"
          ]
        },
        {
          "output_type": "stream",
          "name": "stderr",
          "text": [
            "100%|██████████| 500/500 [00:00<00:00, 13043.13it/s]\n"
          ]
        },
        {
          "output_type": "stream",
          "name": "stdout",
          "text": [
            "\n",
            "Calculating p-value for concept shift type 1...\n"
          ]
        },
        {
          "output_type": "stream",
          "name": "stderr",
          "text": [
            "100%|██████████| 500/500 [00:02<00:00, 246.06it/s]\n"
          ]
        },
        {
          "output_type": "stream",
          "name": "stdout",
          "text": [
            "\n",
            "Calculating p-value for concept shift type 2...\n"
          ]
        },
        {
          "output_type": "stream",
          "name": "stderr",
          "text": [
            "100%|██████████| 500/500 [00:07<00:00, 66.94it/s]\n"
          ]
        }
      ]
    },
    {
      "cell_type": "markdown",
      "source": [
        "Visualizing result:"
      ],
      "metadata": {
        "id": "fa8hJN-xkRBY"
      }
    },
    {
      "cell_type": "code",
      "source": [
        "pd.DataFrame(out).T.iloc[:,:2]"
      ],
      "metadata": {
        "colab": {
          "base_uri": "https://localhost:8080/",
          "height": 206
        },
        "id": "4dWmuzERVOvS",
        "outputId": "4cb13ac9-36c1-47fc-947d-a8af0fa16a72"
      },
      "execution_count": 8,
      "outputs": [
        {
          "output_type": "execute_result",
          "data": {
            "text/plain": [
              "           pval        kl\n",
              "tot    0.001996  1.174436\n",
              "lab    0.650699    0.0008\n",
              "cov    0.001996  0.848139\n",
              "conc1  0.001996  1.173636\n",
              "conc2  0.001996  0.326296"
            ],
            "text/html": [
              "\n",
              "  <div id=\"df-fd1494a6-9306-433a-b5eb-5d6eb100cf77\">\n",
              "    <div class=\"colab-df-container\">\n",
              "      <div>\n",
              "<style scoped>\n",
              "    .dataframe tbody tr th:only-of-type {\n",
              "        vertical-align: middle;\n",
              "    }\n",
              "\n",
              "    .dataframe tbody tr th {\n",
              "        vertical-align: top;\n",
              "    }\n",
              "\n",
              "    .dataframe thead th {\n",
              "        text-align: right;\n",
              "    }\n",
              "</style>\n",
              "<table border=\"1\" class=\"dataframe\">\n",
              "  <thead>\n",
              "    <tr style=\"text-align: right;\">\n",
              "      <th></th>\n",
              "      <th>pval</th>\n",
              "      <th>kl</th>\n",
              "    </tr>\n",
              "  </thead>\n",
              "  <tbody>\n",
              "    <tr>\n",
              "      <th>tot</th>\n",
              "      <td>0.001996</td>\n",
              "      <td>1.174436</td>\n",
              "    </tr>\n",
              "    <tr>\n",
              "      <th>lab</th>\n",
              "      <td>0.650699</td>\n",
              "      <td>0.0008</td>\n",
              "    </tr>\n",
              "    <tr>\n",
              "      <th>cov</th>\n",
              "      <td>0.001996</td>\n",
              "      <td>0.848139</td>\n",
              "    </tr>\n",
              "    <tr>\n",
              "      <th>conc1</th>\n",
              "      <td>0.001996</td>\n",
              "      <td>1.173636</td>\n",
              "    </tr>\n",
              "    <tr>\n",
              "      <th>conc2</th>\n",
              "      <td>0.001996</td>\n",
              "      <td>0.326296</td>\n",
              "    </tr>\n",
              "  </tbody>\n",
              "</table>\n",
              "</div>\n",
              "      <button class=\"colab-df-convert\" onclick=\"convertToInteractive('df-fd1494a6-9306-433a-b5eb-5d6eb100cf77')\"\n",
              "              title=\"Convert this dataframe to an interactive table.\"\n",
              "              style=\"display:none;\">\n",
              "        \n",
              "  <svg xmlns=\"http://www.w3.org/2000/svg\" height=\"24px\"viewBox=\"0 0 24 24\"\n",
              "       width=\"24px\">\n",
              "    <path d=\"M0 0h24v24H0V0z\" fill=\"none\"/>\n",
              "    <path d=\"M18.56 5.44l.94 2.06.94-2.06 2.06-.94-2.06-.94-.94-2.06-.94 2.06-2.06.94zm-11 1L8.5 8.5l.94-2.06 2.06-.94-2.06-.94L8.5 2.5l-.94 2.06-2.06.94zm10 10l.94 2.06.94-2.06 2.06-.94-2.06-.94-.94-2.06-.94 2.06-2.06.94z\"/><path d=\"M17.41 7.96l-1.37-1.37c-.4-.4-.92-.59-1.43-.59-.52 0-1.04.2-1.43.59L10.3 9.45l-7.72 7.72c-.78.78-.78 2.05 0 2.83L4 21.41c.39.39.9.59 1.41.59.51 0 1.02-.2 1.41-.59l7.78-7.78 2.81-2.81c.8-.78.8-2.07 0-2.86zM5.41 20L4 18.59l7.72-7.72 1.47 1.35L5.41 20z\"/>\n",
              "  </svg>\n",
              "      </button>\n",
              "      \n",
              "  <style>\n",
              "    .colab-df-container {\n",
              "      display:flex;\n",
              "      flex-wrap:wrap;\n",
              "      gap: 12px;\n",
              "    }\n",
              "\n",
              "    .colab-df-convert {\n",
              "      background-color: #E8F0FE;\n",
              "      border: none;\n",
              "      border-radius: 50%;\n",
              "      cursor: pointer;\n",
              "      display: none;\n",
              "      fill: #1967D2;\n",
              "      height: 32px;\n",
              "      padding: 0 0 0 0;\n",
              "      width: 32px;\n",
              "    }\n",
              "\n",
              "    .colab-df-convert:hover {\n",
              "      background-color: #E2EBFA;\n",
              "      box-shadow: 0px 1px 2px rgba(60, 64, 67, 0.3), 0px 1px 3px 1px rgba(60, 64, 67, 0.15);\n",
              "      fill: #174EA6;\n",
              "    }\n",
              "\n",
              "    [theme=dark] .colab-df-convert {\n",
              "      background-color: #3B4455;\n",
              "      fill: #D2E3FC;\n",
              "    }\n",
              "\n",
              "    [theme=dark] .colab-df-convert:hover {\n",
              "      background-color: #434B5C;\n",
              "      box-shadow: 0px 1px 3px 1px rgba(0, 0, 0, 0.15);\n",
              "      filter: drop-shadow(0px 1px 2px rgba(0, 0, 0, 0.3));\n",
              "      fill: #FFFFFF;\n",
              "    }\n",
              "  </style>\n",
              "\n",
              "      <script>\n",
              "        const buttonEl =\n",
              "          document.querySelector('#df-fd1494a6-9306-433a-b5eb-5d6eb100cf77 button.colab-df-convert');\n",
              "        buttonEl.style.display =\n",
              "          google.colab.kernel.accessAllowed ? 'block' : 'none';\n",
              "\n",
              "        async function convertToInteractive(key) {\n",
              "          const element = document.querySelector('#df-fd1494a6-9306-433a-b5eb-5d6eb100cf77');\n",
              "          const dataTable =\n",
              "            await google.colab.kernel.invokeFunction('convertToInteractive',\n",
              "                                                     [key], {});\n",
              "          if (!dataTable) return;\n",
              "\n",
              "          const docLinkHtml = 'Like what you see? Visit the ' +\n",
              "            '<a target=\"_blank\" href=https://colab.research.google.com/notebooks/data_table.ipynb>data table notebook</a>'\n",
              "            + ' to learn more about interactive tables.';\n",
              "          element.innerHTML = '';\n",
              "          dataTable['output_type'] = 'display_data';\n",
              "          await google.colab.output.renderOutput(dataTable, element);\n",
              "          const docLink = document.createElement('div');\n",
              "          docLink.innerHTML = docLinkHtml;\n",
              "          element.appendChild(docLink);\n",
              "        }\n",
              "      </script>\n",
              "    </div>\n",
              "  </div>\n",
              "  "
            ]
          },
          "metadata": {},
          "execution_count": 8
        }
      ]
    },
    {
      "cell_type": "markdown",
      "source": [
        "## Example 2\n",
        "\n",
        "In this example, we cause label shift but not concept shift of type 1. \n",
        "\n",
        "We start by setting some parameters:"
      ],
      "metadata": {
        "id": "hnIqmgdmkT9p"
      }
    },
    {
      "cell_type": "code",
      "source": [
        "#DetectShift parameters\n",
        "task='class'\n",
        "test=.1 #test size fraction\n",
        "B=500 #number of permutations\n",
        "\n",
        "#Shift parameters\n",
        "gamma=0\n",
        "delta=.4"
      ],
      "metadata": {
        "id": "FBXBaURFVRX2"
      },
      "execution_count": 9,
      "outputs": []
    },
    {
      "cell_type": "markdown",
      "source": [
        "Creating data (**please use *prep_data* funtion to prepare your data**):"
      ],
      "metadata": {
        "id": "to6u3eNckpyB"
      }
    },
    {
      "cell_type": "code",
      "source": [
        "Xs, ys, Xt, yt = GenData2(gamma, delta)\n",
        "\n",
        "Xs_train, Xs_test, ys_train, ys_test, Zs_train, Zs_test, \\\n",
        "Xt_train, Xt_test, yt_train, yt_test, Zt_train, Zt_test = ds.tools.prep_data(Xs, ys, Xt, yt, test=test, task=task, random_state=random_seed)            "
      ],
      "metadata": {
        "id": "dtVhDut1VS_9"
      },
      "execution_count": 10,
      "outputs": []
    },
    {
      "cell_type": "markdown",
      "source": [
        "Training models (in this case, we use $l_2$ regularized logistic regression):"
      ],
      "metadata": {
        "id": "WwIOw3tnkuIp"
      }
    },
    {
      "cell_type": "code",
      "source": [
        "#Training classifiers to estimate the R-N derivative\n",
        "totshift_model = ds.tools.KL(boost=False, cv=5)\n",
        "totshift_model.fit(Zs_train, Zt_train)\n",
        "covshift_model = ds.tools.KL(boost=False, cv=5)\n",
        "covshift_model.fit(Xs_train, Xt_train)\n",
        "\n",
        "#Estimating the conditional distribution\n",
        "cd_model = ds.cdist.cde_class(boost=False, cv=5)\n",
        "cd_model.fit(pd.concat([Xs_train, Xt_train], axis=0), \n",
        "             pd.concat([ys_train, yt_train], axis=0))"
      ],
      "metadata": {
        "id": "9cRqvzuAVUmK"
      },
      "execution_count": 11,
      "outputs": []
    },
    {
      "cell_type": "markdown",
      "source": [
        "Getting test statistics and p-values separately:"
      ],
      "metadata": {
        "id": "xIeXJNsqk78A"
      }
    },
    {
      "cell_type": "code",
      "source": [
        "verbose = True\n",
        "\n",
        "print(\"Calculating p-value for total shift...\") \n",
        "tot = ds.tests.Permut(Zs_test, Zt_test, totshift_model, B=B, verbose = verbose)\n",
        "\n",
        "print(\"\\nCalculating p-value for label shift...\")\n",
        "lab = ds.tests.PermutDiscrete(ys_test, yt_test, B=B, verbose = verbose)\n",
        "\n",
        "print(\"\\nCalculating p-value for covariate shift...\")\n",
        "cov = ds.tests.Permut(Xs_test, Xt_test, covshift_model, B=B, verbose = verbose)\n",
        "\n",
        "print(\"\\nCalculating p-value for concept shift type 1...\")\n",
        "conc1 = ds.tests.LocalPermut(Xs_test, ys_test, Xt_test, yt_test, \n",
        "                             totshift_model, labshift_model=None, task=task, B=B, verbose = verbose)\n",
        "\n",
        "print(\"\\nCalculating p-value for concept shift type 2...\")\n",
        "conc2 = ds.tests.CondRand(Xs_test, ys_test, Xt_test, yt_test, \n",
        "                          cd_model, totshift_model, covshift_model, B=B, verbose = verbose)\n",
        "    \n",
        "out = {'tot':tot, 'lab':lab, 'cov':cov, 'conc1':conc1, 'conc2':conc2}"
      ],
      "metadata": {
        "colab": {
          "base_uri": "https://localhost:8080/"
        },
        "id": "m_fxA8cfVWC0",
        "outputId": "1faba16e-6c92-45a2-db76-dbfbf5646935"
      },
      "execution_count": 12,
      "outputs": [
        {
          "output_type": "stream",
          "name": "stdout",
          "text": [
            "Calculating p-value for total shift...\n"
          ]
        },
        {
          "output_type": "stream",
          "name": "stderr",
          "text": [
            "100%|██████████| 500/500 [00:00<00:00, 3923.19it/s]\n"
          ]
        },
        {
          "output_type": "stream",
          "name": "stdout",
          "text": [
            "\n",
            "Calculating p-value for label shift...\n"
          ]
        },
        {
          "output_type": "stream",
          "name": "stderr",
          "text": [
            "100%|██████████| 500/500 [00:00<00:00, 3741.93it/s]\n"
          ]
        },
        {
          "output_type": "stream",
          "name": "stdout",
          "text": [
            "\n",
            "Calculating p-value for covariate shift...\n"
          ]
        },
        {
          "output_type": "stream",
          "name": "stderr",
          "text": [
            "100%|██████████| 500/500 [00:00<00:00, 3622.58it/s]\n"
          ]
        },
        {
          "output_type": "stream",
          "name": "stdout",
          "text": [
            "\n",
            "Calculating p-value for concept shift type 1...\n"
          ]
        },
        {
          "output_type": "stream",
          "name": "stderr",
          "text": [
            "100%|██████████| 500/500 [00:05<00:00, 96.56it/s] \n"
          ]
        },
        {
          "output_type": "stream",
          "name": "stdout",
          "text": [
            "\n",
            "Calculating p-value for concept shift type 2...\n"
          ]
        },
        {
          "output_type": "stream",
          "name": "stderr",
          "text": [
            "100%|██████████| 500/500 [00:03<00:00, 129.37it/s]\n"
          ]
        }
      ]
    },
    {
      "cell_type": "markdown",
      "source": [
        "Visualizing result:"
      ],
      "metadata": {
        "id": "AwnVsdhulDis"
      }
    },
    {
      "cell_type": "code",
      "source": [
        "pd.DataFrame(out).T.iloc[:,:2]"
      ],
      "metadata": {
        "colab": {
          "base_uri": "https://localhost:8080/",
          "height": 206
        },
        "id": "un-GBsReVdt6",
        "outputId": "857724b9-c465-416b-e324-e47cf5ab01f7"
      },
      "execution_count": 13,
      "outputs": [
        {
          "output_type": "execute_result",
          "data": {
            "text/plain": [
              "           pval        kl\n",
              "tot    0.001996  0.320143\n",
              "lab    0.001996  0.378649\n",
              "cov     0.00998  0.128111\n",
              "conc1  0.027944 -0.058506\n",
              "conc2  0.001996  0.192032"
            ],
            "text/html": [
              "\n",
              "  <div id=\"df-044eda76-9bc4-4f7f-997e-a474ff7c1eef\">\n",
              "    <div class=\"colab-df-container\">\n",
              "      <div>\n",
              "<style scoped>\n",
              "    .dataframe tbody tr th:only-of-type {\n",
              "        vertical-align: middle;\n",
              "    }\n",
              "\n",
              "    .dataframe tbody tr th {\n",
              "        vertical-align: top;\n",
              "    }\n",
              "\n",
              "    .dataframe thead th {\n",
              "        text-align: right;\n",
              "    }\n",
              "</style>\n",
              "<table border=\"1\" class=\"dataframe\">\n",
              "  <thead>\n",
              "    <tr style=\"text-align: right;\">\n",
              "      <th></th>\n",
              "      <th>pval</th>\n",
              "      <th>kl</th>\n",
              "    </tr>\n",
              "  </thead>\n",
              "  <tbody>\n",
              "    <tr>\n",
              "      <th>tot</th>\n",
              "      <td>0.001996</td>\n",
              "      <td>0.320143</td>\n",
              "    </tr>\n",
              "    <tr>\n",
              "      <th>lab</th>\n",
              "      <td>0.001996</td>\n",
              "      <td>0.378649</td>\n",
              "    </tr>\n",
              "    <tr>\n",
              "      <th>cov</th>\n",
              "      <td>0.00998</td>\n",
              "      <td>0.128111</td>\n",
              "    </tr>\n",
              "    <tr>\n",
              "      <th>conc1</th>\n",
              "      <td>0.027944</td>\n",
              "      <td>-0.058506</td>\n",
              "    </tr>\n",
              "    <tr>\n",
              "      <th>conc2</th>\n",
              "      <td>0.001996</td>\n",
              "      <td>0.192032</td>\n",
              "    </tr>\n",
              "  </tbody>\n",
              "</table>\n",
              "</div>\n",
              "      <button class=\"colab-df-convert\" onclick=\"convertToInteractive('df-044eda76-9bc4-4f7f-997e-a474ff7c1eef')\"\n",
              "              title=\"Convert this dataframe to an interactive table.\"\n",
              "              style=\"display:none;\">\n",
              "        \n",
              "  <svg xmlns=\"http://www.w3.org/2000/svg\" height=\"24px\"viewBox=\"0 0 24 24\"\n",
              "       width=\"24px\">\n",
              "    <path d=\"M0 0h24v24H0V0z\" fill=\"none\"/>\n",
              "    <path d=\"M18.56 5.44l.94 2.06.94-2.06 2.06-.94-2.06-.94-.94-2.06-.94 2.06-2.06.94zm-11 1L8.5 8.5l.94-2.06 2.06-.94-2.06-.94L8.5 2.5l-.94 2.06-2.06.94zm10 10l.94 2.06.94-2.06 2.06-.94-2.06-.94-.94-2.06-.94 2.06-2.06.94z\"/><path d=\"M17.41 7.96l-1.37-1.37c-.4-.4-.92-.59-1.43-.59-.52 0-1.04.2-1.43.59L10.3 9.45l-7.72 7.72c-.78.78-.78 2.05 0 2.83L4 21.41c.39.39.9.59 1.41.59.51 0 1.02-.2 1.41-.59l7.78-7.78 2.81-2.81c.8-.78.8-2.07 0-2.86zM5.41 20L4 18.59l7.72-7.72 1.47 1.35L5.41 20z\"/>\n",
              "  </svg>\n",
              "      </button>\n",
              "      \n",
              "  <style>\n",
              "    .colab-df-container {\n",
              "      display:flex;\n",
              "      flex-wrap:wrap;\n",
              "      gap: 12px;\n",
              "    }\n",
              "\n",
              "    .colab-df-convert {\n",
              "      background-color: #E8F0FE;\n",
              "      border: none;\n",
              "      border-radius: 50%;\n",
              "      cursor: pointer;\n",
              "      display: none;\n",
              "      fill: #1967D2;\n",
              "      height: 32px;\n",
              "      padding: 0 0 0 0;\n",
              "      width: 32px;\n",
              "    }\n",
              "\n",
              "    .colab-df-convert:hover {\n",
              "      background-color: #E2EBFA;\n",
              "      box-shadow: 0px 1px 2px rgba(60, 64, 67, 0.3), 0px 1px 3px 1px rgba(60, 64, 67, 0.15);\n",
              "      fill: #174EA6;\n",
              "    }\n",
              "\n",
              "    [theme=dark] .colab-df-convert {\n",
              "      background-color: #3B4455;\n",
              "      fill: #D2E3FC;\n",
              "    }\n",
              "\n",
              "    [theme=dark] .colab-df-convert:hover {\n",
              "      background-color: #434B5C;\n",
              "      box-shadow: 0px 1px 3px 1px rgba(0, 0, 0, 0.15);\n",
              "      filter: drop-shadow(0px 1px 2px rgba(0, 0, 0, 0.3));\n",
              "      fill: #FFFFFF;\n",
              "    }\n",
              "  </style>\n",
              "\n",
              "      <script>\n",
              "        const buttonEl =\n",
              "          document.querySelector('#df-044eda76-9bc4-4f7f-997e-a474ff7c1eef button.colab-df-convert');\n",
              "        buttonEl.style.display =\n",
              "          google.colab.kernel.accessAllowed ? 'block' : 'none';\n",
              "\n",
              "        async function convertToInteractive(key) {\n",
              "          const element = document.querySelector('#df-044eda76-9bc4-4f7f-997e-a474ff7c1eef');\n",
              "          const dataTable =\n",
              "            await google.colab.kernel.invokeFunction('convertToInteractive',\n",
              "                                                     [key], {});\n",
              "          if (!dataTable) return;\n",
              "\n",
              "          const docLinkHtml = 'Like what you see? Visit the ' +\n",
              "            '<a target=\"_blank\" href=https://colab.research.google.com/notebooks/data_table.ipynb>data table notebook</a>'\n",
              "            + ' to learn more about interactive tables.';\n",
              "          element.innerHTML = '';\n",
              "          dataTable['output_type'] = 'display_data';\n",
              "          await google.colab.output.renderOutput(dataTable, element);\n",
              "          const docLink = document.createElement('div');\n",
              "          docLink.innerHTML = docLinkHtml;\n",
              "          element.appendChild(docLink);\n",
              "        }\n",
              "      </script>\n",
              "    </div>\n",
              "  </div>\n",
              "  "
            ]
          },
          "metadata": {},
          "execution_count": 13
        }
      ]
    }
  ]
}

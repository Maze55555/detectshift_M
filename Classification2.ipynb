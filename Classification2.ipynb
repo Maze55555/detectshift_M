{
  "nbformat": 4,
  "nbformat_minor": 0,
  "metadata": {
    "colab": {
      "name": "Classification2.ipynb",
      "provenance": [],
      "collapsed_sections": [],
      "authorship_tag": "ABX9TyNJmpV4JRdE0U4t9sC9Lua4",
      "include_colab_link": true
    },
    "kernelspec": {
      "name": "python3",
      "display_name": "Python 3"
    },
    "language_info": {
      "name": "python"
    }
  },
  "cells": [
    {
      "cell_type": "markdown",
      "metadata": {
        "id": "view-in-github",
        "colab_type": "text"
      },
      "source": [
        "<a href=\"https://colab.research.google.com/github/felipemaiapolo/detectshift/blob/main/Classification2.ipynb\" target=\"_parent\"><img src=\"https://colab.research.google.com/assets/colab-badge.svg\" alt=\"Open In Colab\"/></a>"
      ]
    },
    {
      "cell_type": "markdown",
      "source": [
        "# Dataset shift diagnostics with *DetectShift* in a multinomial classification task"
      ],
      "metadata": {
        "id": "GkgoTtJ_bqzr"
      }
    },
    {
      "cell_type": "markdown",
      "source": [
        "## Starting..."
      ],
      "metadata": {
        "id": "fnhVRHoLcBrd"
      }
    },
    {
      "cell_type": "markdown",
      "source": [
        "Installing *DetectShift*:"
      ],
      "metadata": {
        "id": "bVzaajEJfSuw"
      }
    },
    {
      "cell_type": "code",
      "execution_count": null,
      "metadata": {
        "id": "TqN5iI_FVBQn"
      },
      "outputs": [],
      "source": [
        "from IPython.display import clear_output\n",
        "!pip install git+https://github.com/felipemaiapolo/detectshift\n",
        "!pip install wget\n",
        "clear_output()"
      ]
    },
    {
      "cell_type": "markdown",
      "source": [
        "Loading packages:"
      ],
      "metadata": {
        "id": "0p0Av44XfZKf"
      }
    },
    {
      "cell_type": "code",
      "source": [
        "import detectshift as ds\n",
        "import numpy as np\n",
        "import pandas as pd\n",
        "import matplotlib.pyplot as plt\n",
        "from tqdm import tqdm\n",
        "import wget\n",
        "\n",
        "random_seed=42\n",
        "np.random.seed(random_seed)"
      ],
      "metadata": {
        "id": "d2kq7AwzVBuB"
      },
      "execution_count": null,
      "outputs": []
    },
    {
      "cell_type": "markdown",
      "source": [
        "Loading data used in the MNIST/USPS experiment contained in the paper [\"A unified framework for dataset shift diagnostics\"](https://arxiv.org/pdf/2205.08340.pdf). Click [here](https://github.com/felipemaiapolo/dataset_shift_diagnostics/blob/main/EXP5_digits_experiment.ipynb) and [here](https://github.com/felipemaiapolo/dataset_shift_diagnostics/tree/main/data) if you want to check how the data was generated. \n",
        "\n",
        "In this demo, we only use the pure MNIST dataset and the even split.\n",
        "\n",
        "*PS: The code used in this demo is not exactly the same used in the paper, then we expect some variation, specially in the p-values. However, we expect the results to be qualitatively very similar.*"
      ],
      "metadata": {
        "id": "qumk9Eshffy9"
      }
    },
    {
      "cell_type": "code",
      "source": [
        "url=\"https://github.com/felipemaiapolo/detectshift/raw/main/demo/data/digits_data.npy\"\n",
        "filename = wget.download(url, out=None)\n",
        "\n",
        "data=np.load(filename,allow_pickle=True).tolist()"
      ],
      "metadata": {
        "id": "wq-GnAX6gFRY"
      },
      "execution_count": null,
      "outputs": []
    },
    {
      "cell_type": "code",
      "source": [
        "Xs, ys = data['X'][0], data['y'][0]\n",
        "Xt, yt = data['X'][-1], data['y'][-1]"
      ],
      "metadata": {
        "id": "Au5NRc8RgYhe"
      },
      "execution_count": null,
      "outputs": []
    },
    {
      "cell_type": "markdown",
      "source": [
        "## Example \n",
        "\n",
        "In this example, we expect to detect all kinds of shift except label shift and concept shift of type 2 (just like in the paper):\n",
        "\n",
        "We start by setting some parameters:"
      ],
      "metadata": {
        "id": "gVTR8zTni-57"
      }
    },
    {
      "cell_type": "code",
      "source": [
        "#DetectShift parameters\n",
        "task='class'\n",
        "test=.1 #test size fraction\n",
        "B=500 #number of permutations"
      ],
      "metadata": {
        "id": "FxKU4EmoVC_Q"
      },
      "execution_count": null,
      "outputs": []
    },
    {
      "cell_type": "markdown",
      "source": [
        "Creating data (**please use *prep_data* funtion to prepare your data**):"
      ],
      "metadata": {
        "id": "I0HgXFyujjhZ"
      }
    },
    {
      "cell_type": "code",
      "source": [
        "Xs_train, Xs_test, ys_train, ys_test, Zs_train, Zs_test, \\\n",
        "Xt_train, Xt_test, yt_train, yt_test, Zt_train, Zt_test = ds.tools.prep_data(Xs, ys, Xt, yt, test=test, task=task, random_state=random_seed)            "
      ],
      "metadata": {
        "id": "v4eXaMHpVKvF"
      },
      "execution_count": null,
      "outputs": []
    },
    {
      "cell_type": "markdown",
      "source": [
        "Training models (in this case, we use Catboost classifier with early-stopping):"
      ],
      "metadata": {
        "id": "aXv1vArZj0ej"
      }
    },
    {
      "cell_type": "code",
      "source": [
        "#Training classifiers to estimate the R-N derivative\n",
        "totshift_model = ds.tools.KL(boost=True)\n",
        "totshift_model.fit(Zs_train, Zt_train)\n",
        "covshift_model = ds.tools.KL(boost=True)\n",
        "covshift_model.fit(Xs_train, Xt_train)\n",
        "\n",
        "#Estimating the conditional distribution\n",
        "cd_model = ds.cdist.cde_class(boost=True)\n",
        "cd_model.fit(pd.concat([Xs_train, Xt_train], axis=0), \n",
        "             pd.concat([ys_train, yt_train], axis=0))"
      ],
      "metadata": {
        "id": "MVlaagTZVLAQ"
      },
      "execution_count": null,
      "outputs": []
    },
    {
      "cell_type": "markdown",
      "source": [
        "Getting test statistics and p-values using *ShiftDiagnostics* function (all at once):"
      ],
      "metadata": {
        "id": "w7iAGNG0kMxh"
      }
    },
    {
      "cell_type": "code",
      "source": [
        "out = ds.tests.ShiftDiagnostics(Xs_test, ys_test, Xt_test, yt_test,\n",
        "                                totshift_model=totshift_model, covshift_model=covshift_model, labshift_model=None,\n",
        "                                cd_model=cd_model, task=task, B=B, verbose=True)"
      ],
      "metadata": {
        "colab": {
          "base_uri": "https://localhost:8080/"
        },
        "id": "F5sptzlpVM8c",
        "outputId": "d26f4104-65b9-4aa4-c09a-2aa38fadb7d9"
      },
      "execution_count": null,
      "outputs": [
        {
          "output_type": "stream",
          "name": "stdout",
          "text": [
            "Calculating p-value for total shift...\n"
          ]
        },
        {
          "output_type": "stream",
          "name": "stderr",
          "text": [
            "100%|██████████| 500/500 [00:00<00:00, 7898.52it/s]\n"
          ]
        },
        {
          "output_type": "stream",
          "name": "stdout",
          "text": [
            "\n",
            "Calculating p-value for label shift...\n"
          ]
        },
        {
          "output_type": "stream",
          "name": "stderr",
          "text": [
            "100%|██████████| 500/500 [00:00<00:00, 2186.99it/s]\n"
          ]
        },
        {
          "output_type": "stream",
          "name": "stdout",
          "text": [
            "\n",
            "Calculating p-value for covariate shift...\n"
          ]
        },
        {
          "output_type": "stream",
          "name": "stderr",
          "text": [
            "100%|██████████| 500/500 [00:00<00:00, 7931.32it/s]\n"
          ]
        },
        {
          "output_type": "stream",
          "name": "stdout",
          "text": [
            "\n",
            "Calculating p-value for concept shift type 1...\n"
          ]
        },
        {
          "output_type": "stream",
          "name": "stderr",
          "text": [
            "100%|██████████| 500/500 [00:04<00:00, 101.87it/s]\n"
          ]
        },
        {
          "output_type": "stream",
          "name": "stdout",
          "text": [
            "\n",
            "Calculating p-value for concept shift type 2...\n"
          ]
        },
        {
          "output_type": "stream",
          "name": "stderr",
          "text": [
            "100%|██████████| 500/500 [00:07<00:00, 69.81it/s]\n"
          ]
        }
      ]
    },
    {
      "cell_type": "markdown",
      "source": [
        "Visualizing result:"
      ],
      "metadata": {
        "id": "fa8hJN-xkRBY"
      }
    },
    {
      "cell_type": "code",
      "source": [
        "pd.DataFrame(out).T.iloc[:,:2]"
      ],
      "metadata": {
        "colab": {
          "base_uri": "https://localhost:8080/",
          "height": 206
        },
        "id": "4dWmuzERVOvS",
        "outputId": "257455cd-ba85-450e-a0b9-131466fb5411"
      },
      "execution_count": null,
      "outputs": [
        {
          "output_type": "execute_result",
          "data": {
            "text/plain": [
              "           pval        kl\n",
              "tot    0.001996   1.37567\n",
              "lab    0.467066  0.028319\n",
              "cov    0.001996  1.508569\n",
              "conc1  0.001996  1.347351\n",
              "conc2  0.572854 -0.132898"
            ],
            "text/html": [
              "\n",
              "  <div id=\"df-609f38cd-475a-4965-a52e-97b69b97597d\">\n",
              "    <div class=\"colab-df-container\">\n",
              "      <div>\n",
              "<style scoped>\n",
              "    .dataframe tbody tr th:only-of-type {\n",
              "        vertical-align: middle;\n",
              "    }\n",
              "\n",
              "    .dataframe tbody tr th {\n",
              "        vertical-align: top;\n",
              "    }\n",
              "\n",
              "    .dataframe thead th {\n",
              "        text-align: right;\n",
              "    }\n",
              "</style>\n",
              "<table border=\"1\" class=\"dataframe\">\n",
              "  <thead>\n",
              "    <tr style=\"text-align: right;\">\n",
              "      <th></th>\n",
              "      <th>pval</th>\n",
              "      <th>kl</th>\n",
              "    </tr>\n",
              "  </thead>\n",
              "  <tbody>\n",
              "    <tr>\n",
              "      <th>tot</th>\n",
              "      <td>0.001996</td>\n",
              "      <td>1.37567</td>\n",
              "    </tr>\n",
              "    <tr>\n",
              "      <th>lab</th>\n",
              "      <td>0.467066</td>\n",
              "      <td>0.028319</td>\n",
              "    </tr>\n",
              "    <tr>\n",
              "      <th>cov</th>\n",
              "      <td>0.001996</td>\n",
              "      <td>1.508569</td>\n",
              "    </tr>\n",
              "    <tr>\n",
              "      <th>conc1</th>\n",
              "      <td>0.001996</td>\n",
              "      <td>1.347351</td>\n",
              "    </tr>\n",
              "    <tr>\n",
              "      <th>conc2</th>\n",
              "      <td>0.572854</td>\n",
              "      <td>-0.132898</td>\n",
              "    </tr>\n",
              "  </tbody>\n",
              "</table>\n",
              "</div>\n",
              "      <button class=\"colab-df-convert\" onclick=\"convertToInteractive('df-609f38cd-475a-4965-a52e-97b69b97597d')\"\n",
              "              title=\"Convert this dataframe to an interactive table.\"\n",
              "              style=\"display:none;\">\n",
              "        \n",
              "  <svg xmlns=\"http://www.w3.org/2000/svg\" height=\"24px\"viewBox=\"0 0 24 24\"\n",
              "       width=\"24px\">\n",
              "    <path d=\"M0 0h24v24H0V0z\" fill=\"none\"/>\n",
              "    <path d=\"M18.56 5.44l.94 2.06.94-2.06 2.06-.94-2.06-.94-.94-2.06-.94 2.06-2.06.94zm-11 1L8.5 8.5l.94-2.06 2.06-.94-2.06-.94L8.5 2.5l-.94 2.06-2.06.94zm10 10l.94 2.06.94-2.06 2.06-.94-2.06-.94-.94-2.06-.94 2.06-2.06.94z\"/><path d=\"M17.41 7.96l-1.37-1.37c-.4-.4-.92-.59-1.43-.59-.52 0-1.04.2-1.43.59L10.3 9.45l-7.72 7.72c-.78.78-.78 2.05 0 2.83L4 21.41c.39.39.9.59 1.41.59.51 0 1.02-.2 1.41-.59l7.78-7.78 2.81-2.81c.8-.78.8-2.07 0-2.86zM5.41 20L4 18.59l7.72-7.72 1.47 1.35L5.41 20z\"/>\n",
              "  </svg>\n",
              "      </button>\n",
              "      \n",
              "  <style>\n",
              "    .colab-df-container {\n",
              "      display:flex;\n",
              "      flex-wrap:wrap;\n",
              "      gap: 12px;\n",
              "    }\n",
              "\n",
              "    .colab-df-convert {\n",
              "      background-color: #E8F0FE;\n",
              "      border: none;\n",
              "      border-radius: 50%;\n",
              "      cursor: pointer;\n",
              "      display: none;\n",
              "      fill: #1967D2;\n",
              "      height: 32px;\n",
              "      padding: 0 0 0 0;\n",
              "      width: 32px;\n",
              "    }\n",
              "\n",
              "    .colab-df-convert:hover {\n",
              "      background-color: #E2EBFA;\n",
              "      box-shadow: 0px 1px 2px rgba(60, 64, 67, 0.3), 0px 1px 3px 1px rgba(60, 64, 67, 0.15);\n",
              "      fill: #174EA6;\n",
              "    }\n",
              "\n",
              "    [theme=dark] .colab-df-convert {\n",
              "      background-color: #3B4455;\n",
              "      fill: #D2E3FC;\n",
              "    }\n",
              "\n",
              "    [theme=dark] .colab-df-convert:hover {\n",
              "      background-color: #434B5C;\n",
              "      box-shadow: 0px 1px 3px 1px rgba(0, 0, 0, 0.15);\n",
              "      filter: drop-shadow(0px 1px 2px rgba(0, 0, 0, 0.3));\n",
              "      fill: #FFFFFF;\n",
              "    }\n",
              "  </style>\n",
              "\n",
              "      <script>\n",
              "        const buttonEl =\n",
              "          document.querySelector('#df-609f38cd-475a-4965-a52e-97b69b97597d button.colab-df-convert');\n",
              "        buttonEl.style.display =\n",
              "          google.colab.kernel.accessAllowed ? 'block' : 'none';\n",
              "\n",
              "        async function convertToInteractive(key) {\n",
              "          const element = document.querySelector('#df-609f38cd-475a-4965-a52e-97b69b97597d');\n",
              "          const dataTable =\n",
              "            await google.colab.kernel.invokeFunction('convertToInteractive',\n",
              "                                                     [key], {});\n",
              "          if (!dataTable) return;\n",
              "\n",
              "          const docLinkHtml = 'Like what you see? Visit the ' +\n",
              "            '<a target=\"_blank\" href=https://colab.research.google.com/notebooks/data_table.ipynb>data table notebook</a>'\n",
              "            + ' to learn more about interactive tables.';\n",
              "          element.innerHTML = '';\n",
              "          dataTable['output_type'] = 'display_data';\n",
              "          await google.colab.output.renderOutput(dataTable, element);\n",
              "          const docLink = document.createElement('div');\n",
              "          docLink.innerHTML = docLinkHtml;\n",
              "          element.appendChild(docLink);\n",
              "        }\n",
              "      </script>\n",
              "    </div>\n",
              "  </div>\n",
              "  "
            ]
          },
          "metadata": {},
          "execution_count": 9
        }
      ]
    },
    {
      "cell_type": "markdown",
      "source": [
        "Getting test statistics and p-values separately:"
      ],
      "metadata": {
        "id": "xIeXJNsqk78A"
      }
    },
    {
      "cell_type": "code",
      "source": [
        "verbose = True\n",
        "\n",
        "print(\"Calculating p-value for total shift...\") \n",
        "tot = ds.tests.Permut(Zs_test, Zt_test, totshift_model, B=B, verbose = verbose)\n",
        "\n",
        "print(\"\\nCalculating p-value for label shift...\")\n",
        "lab = ds.tests.PermutDiscrete(ys_test, yt_test, B=B, verbose = verbose)\n",
        "\n",
        "print(\"\\nCalculating p-value for covariate shift...\")\n",
        "cov = ds.tests.Permut(Xs_test, Xt_test, covshift_model, B=B, verbose = verbose)\n",
        "\n",
        "print(\"\\nCalculating p-value for concept shift type 1...\")\n",
        "conc1 = ds.tests.LocalPermut(Xs_test, ys_test, Xt_test, yt_test, \n",
        "                             totshift_model, labshift_model=None, task=task, B=B, verbose = verbose)\n",
        "\n",
        "print(\"\\nCalculating p-value for concept shift type 2...\")\n",
        "conc2 = ds.tests.CondRand(Xs_test, ys_test, Xt_test, yt_test, \n",
        "                          cd_model, totshift_model, covshift_model, B=B, verbose = verbose)\n",
        "    \n",
        "out = {'tot':tot, 'lab':lab, 'cov':cov, 'conc1':conc1, 'conc2':conc2}"
      ],
      "metadata": {
        "colab": {
          "base_uri": "https://localhost:8080/"
        },
        "id": "m_fxA8cfVWC0",
        "outputId": "32e8df76-740f-4edb-bd66-8628286fd626"
      },
      "execution_count": null,
      "outputs": [
        {
          "output_type": "stream",
          "name": "stdout",
          "text": [
            "Calculating p-value for total shift...\n"
          ]
        },
        {
          "output_type": "stream",
          "name": "stderr",
          "text": [
            "100%|██████████| 500/500 [00:00<00:00, 6835.79it/s]\n"
          ]
        },
        {
          "output_type": "stream",
          "name": "stdout",
          "text": [
            "\n",
            "Calculating p-value for label shift...\n"
          ]
        },
        {
          "output_type": "stream",
          "name": "stderr",
          "text": [
            "100%|██████████| 500/500 [00:00<00:00, 2175.53it/s]\n"
          ]
        },
        {
          "output_type": "stream",
          "name": "stdout",
          "text": [
            "\n",
            "Calculating p-value for covariate shift...\n"
          ]
        },
        {
          "output_type": "stream",
          "name": "stderr",
          "text": [
            "100%|██████████| 500/500 [00:00<00:00, 7295.58it/s]\n"
          ]
        },
        {
          "output_type": "stream",
          "name": "stdout",
          "text": [
            "\n",
            "Calculating p-value for concept shift type 1...\n"
          ]
        },
        {
          "output_type": "stream",
          "name": "stderr",
          "text": [
            "100%|██████████| 500/500 [00:04<00:00, 103.85it/s]\n"
          ]
        },
        {
          "output_type": "stream",
          "name": "stdout",
          "text": [
            "\n",
            "Calculating p-value for concept shift type 2...\n"
          ]
        },
        {
          "output_type": "stream",
          "name": "stderr",
          "text": [
            "100%|██████████| 500/500 [00:07<00:00, 69.00it/s]\n"
          ]
        }
      ]
    },
    {
      "cell_type": "markdown",
      "source": [
        "Visualizing result:"
      ],
      "metadata": {
        "id": "AwnVsdhulDis"
      }
    },
    {
      "cell_type": "code",
      "source": [
        "pd.DataFrame(out).T.iloc[:,:2]"
      ],
      "metadata": {
        "colab": {
          "base_uri": "https://localhost:8080/",
          "height": 206
        },
        "id": "un-GBsReVdt6",
        "outputId": "a2374139-b502-4561-e382-033451ad318f"
      },
      "execution_count": null,
      "outputs": [
        {
          "output_type": "execute_result",
          "data": {
            "text/plain": [
              "           pval        kl\n",
              "tot    0.001996   1.37567\n",
              "lab     0.47505  0.028319\n",
              "cov    0.001996  1.508569\n",
              "conc1  0.001996  1.347351\n",
              "conc2  0.548902 -0.132898"
            ],
            "text/html": [
              "\n",
              "  <div id=\"df-6641a10d-833e-401b-ba99-7a0d6298f1b0\">\n",
              "    <div class=\"colab-df-container\">\n",
              "      <div>\n",
              "<style scoped>\n",
              "    .dataframe tbody tr th:only-of-type {\n",
              "        vertical-align: middle;\n",
              "    }\n",
              "\n",
              "    .dataframe tbody tr th {\n",
              "        vertical-align: top;\n",
              "    }\n",
              "\n",
              "    .dataframe thead th {\n",
              "        text-align: right;\n",
              "    }\n",
              "</style>\n",
              "<table border=\"1\" class=\"dataframe\">\n",
              "  <thead>\n",
              "    <tr style=\"text-align: right;\">\n",
              "      <th></th>\n",
              "      <th>pval</th>\n",
              "      <th>kl</th>\n",
              "    </tr>\n",
              "  </thead>\n",
              "  <tbody>\n",
              "    <tr>\n",
              "      <th>tot</th>\n",
              "      <td>0.001996</td>\n",
              "      <td>1.37567</td>\n",
              "    </tr>\n",
              "    <tr>\n",
              "      <th>lab</th>\n",
              "      <td>0.47505</td>\n",
              "      <td>0.028319</td>\n",
              "    </tr>\n",
              "    <tr>\n",
              "      <th>cov</th>\n",
              "      <td>0.001996</td>\n",
              "      <td>1.508569</td>\n",
              "    </tr>\n",
              "    <tr>\n",
              "      <th>conc1</th>\n",
              "      <td>0.001996</td>\n",
              "      <td>1.347351</td>\n",
              "    </tr>\n",
              "    <tr>\n",
              "      <th>conc2</th>\n",
              "      <td>0.548902</td>\n",
              "      <td>-0.132898</td>\n",
              "    </tr>\n",
              "  </tbody>\n",
              "</table>\n",
              "</div>\n",
              "      <button class=\"colab-df-convert\" onclick=\"convertToInteractive('df-6641a10d-833e-401b-ba99-7a0d6298f1b0')\"\n",
              "              title=\"Convert this dataframe to an interactive table.\"\n",
              "              style=\"display:none;\">\n",
              "        \n",
              "  <svg xmlns=\"http://www.w3.org/2000/svg\" height=\"24px\"viewBox=\"0 0 24 24\"\n",
              "       width=\"24px\">\n",
              "    <path d=\"M0 0h24v24H0V0z\" fill=\"none\"/>\n",
              "    <path d=\"M18.56 5.44l.94 2.06.94-2.06 2.06-.94-2.06-.94-.94-2.06-.94 2.06-2.06.94zm-11 1L8.5 8.5l.94-2.06 2.06-.94-2.06-.94L8.5 2.5l-.94 2.06-2.06.94zm10 10l.94 2.06.94-2.06 2.06-.94-2.06-.94-.94-2.06-.94 2.06-2.06.94z\"/><path d=\"M17.41 7.96l-1.37-1.37c-.4-.4-.92-.59-1.43-.59-.52 0-1.04.2-1.43.59L10.3 9.45l-7.72 7.72c-.78.78-.78 2.05 0 2.83L4 21.41c.39.39.9.59 1.41.59.51 0 1.02-.2 1.41-.59l7.78-7.78 2.81-2.81c.8-.78.8-2.07 0-2.86zM5.41 20L4 18.59l7.72-7.72 1.47 1.35L5.41 20z\"/>\n",
              "  </svg>\n",
              "      </button>\n",
              "      \n",
              "  <style>\n",
              "    .colab-df-container {\n",
              "      display:flex;\n",
              "      flex-wrap:wrap;\n",
              "      gap: 12px;\n",
              "    }\n",
              "\n",
              "    .colab-df-convert {\n",
              "      background-color: #E8F0FE;\n",
              "      border: none;\n",
              "      border-radius: 50%;\n",
              "      cursor: pointer;\n",
              "      display: none;\n",
              "      fill: #1967D2;\n",
              "      height: 32px;\n",
              "      padding: 0 0 0 0;\n",
              "      width: 32px;\n",
              "    }\n",
              "\n",
              "    .colab-df-convert:hover {\n",
              "      background-color: #E2EBFA;\n",
              "      box-shadow: 0px 1px 2px rgba(60, 64, 67, 0.3), 0px 1px 3px 1px rgba(60, 64, 67, 0.15);\n",
              "      fill: #174EA6;\n",
              "    }\n",
              "\n",
              "    [theme=dark] .colab-df-convert {\n",
              "      background-color: #3B4455;\n",
              "      fill: #D2E3FC;\n",
              "    }\n",
              "\n",
              "    [theme=dark] .colab-df-convert:hover {\n",
              "      background-color: #434B5C;\n",
              "      box-shadow: 0px 1px 3px 1px rgba(0, 0, 0, 0.15);\n",
              "      filter: drop-shadow(0px 1px 2px rgba(0, 0, 0, 0.3));\n",
              "      fill: #FFFFFF;\n",
              "    }\n",
              "  </style>\n",
              "\n",
              "      <script>\n",
              "        const buttonEl =\n",
              "          document.querySelector('#df-6641a10d-833e-401b-ba99-7a0d6298f1b0 button.colab-df-convert');\n",
              "        buttonEl.style.display =\n",
              "          google.colab.kernel.accessAllowed ? 'block' : 'none';\n",
              "\n",
              "        async function convertToInteractive(key) {\n",
              "          const element = document.querySelector('#df-6641a10d-833e-401b-ba99-7a0d6298f1b0');\n",
              "          const dataTable =\n",
              "            await google.colab.kernel.invokeFunction('convertToInteractive',\n",
              "                                                     [key], {});\n",
              "          if (!dataTable) return;\n",
              "\n",
              "          const docLinkHtml = 'Like what you see? Visit the ' +\n",
              "            '<a target=\"_blank\" href=https://colab.research.google.com/notebooks/data_table.ipynb>data table notebook</a>'\n",
              "            + ' to learn more about interactive tables.';\n",
              "          element.innerHTML = '';\n",
              "          dataTable['output_type'] = 'display_data';\n",
              "          await google.colab.output.renderOutput(dataTable, element);\n",
              "          const docLink = document.createElement('div');\n",
              "          docLink.innerHTML = docLinkHtml;\n",
              "          element.appendChild(docLink);\n",
              "        }\n",
              "      </script>\n",
              "    </div>\n",
              "  </div>\n",
              "  "
            ]
          },
          "metadata": {},
          "execution_count": 11
        }
      ]
    }
  ]
}